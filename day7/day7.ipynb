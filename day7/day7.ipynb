{
  "metadata": {
    "kernelspec": {
      "name": "python",
      "display_name": "Python (Pyodide)",
      "language": "python"
    },
    "language_info": {
      "codemirror_mode": {
        "name": "python",
        "version": 3
      },
      "file_extension": ".py",
      "mimetype": "text/x-python",
      "name": "python",
      "nbconvert_exporter": "python",
      "pygments_lexer": "ipython3",
      "version": "3.8"
    }
  },
  "nbformat_minor": 4,
  "nbformat": 4,
  "cells": [
    {
      "cell_type": "code",
      "source": "import pandas as pd\nfrom collections import Counter\nimport numpy as np",
      "metadata": {
        "trusted": true
      },
      "outputs": [],
      "execution_count": 1
    },
    {
      "cell_type": "code",
      "source": "",
      "metadata": {
        "trusted": true
      },
      "outputs": [],
      "execution_count": null
    },
    {
      "cell_type": "code",
      "source": "#aim create a natural sorting order based on the alphabetical order\n\n#translation of card labels\n#2->z\n#3->y\n#4->x\n#5->w\n#6->v\n#7->u\n#8->t\n#9->s\n#T->r\n#J->q\n#Q->p\n#K->o\n#A->n\n\n#appending letters to aid sorting of rank\n#high card will append an 'm' in front\n#one pair will append a 'l' in front\n#three of a kind will append a 'k' in front\n#full house will append a 'j' in front\n#four of a kind will append an 'i' in front\n#five of a kind will append an 'h' in front\ntranslation_map = {\n    '2':'z',\n    '3':'y',\n    '4':'x',\n    '5':'w',\n    '6':'v',\n    '7':'u',\n    '8':'t',\n    '9':'s',\n    'T':'r',\n    'J':'q',\n    'Q':'p',\n    'K':'o',\n    'A':'n'}\n\ndef translation_converter(s):\n    sl = [translation_map[ch] for ch in list(s)]\n    \n    counted = Counter(sl)\n    mc_freq = counted.most_common(1)[0][1]\n\n    match mc_freq:\n        case 1: #high card\n            sl.insert(0, 'm')\n        case 2: #a pair\n            if counted.most_common(2)[1][1] == 2: #2 pairs\n                sl.insert(0, 'k')\n            else : #one pair\n                sl.insert(0, 'l')\n        case 3: \n            if counted.most_common(2)[1][1] == 2: #full house\n                sl.insert(0, 'i')\n            else : #3 of a kind\n                sl.insert(0, 'j')\n        case 4: #4 of a kind\n            sl.insert(0, 'h')\n        case 5: #5 of a kind\n            sl.insert(0, 'g')\n\n    return ''.join(sl)",
      "metadata": {
        "trusted": true
      },
      "outputs": [],
      "execution_count": 2
    },
    {
      "cell_type": "code",
      "source": "df = pd.read_csv('github-input.txt',sep=' ',converters={'hand': translation_converter})",
      "metadata": {
        "trusted": true
      },
      "outputs": [],
      "execution_count": 3
    },
    {
      "cell_type": "code",
      "source": "df = df.sort_values(by='hand')\ndf['rank'] = range(len(df)-1,-1,-1)\ndf['rank'] = df['rank'] + 1\ndf['winnings'] = df['rank']*df['bid']",
      "metadata": {
        "trusted": true
      },
      "outputs": [],
      "execution_count": 4
    },
    {
      "cell_type": "code",
      "source": "df['winnings'].sum()",
      "metadata": {
        "trusted": true
      },
      "outputs": [
        {
          "execution_count": 5,
          "output_type": "execute_result",
          "data": {
            "text/plain": "248105065"
          },
          "metadata": {}
        }
      ],
      "execution_count": 5
    },
    {
      "cell_type": "markdown",
      "source": "Part2",
      "metadata": {}
    },
    {
      "cell_type": "code",
      "source": "#aim create a natural sorting order based on the alphabetical order\n\n#translation of card labels\n#2->z\n#3->y\n#4->x\n#5->w\n#6->v\n#7->u\n#8->t\n#9->s\n#T->r\n#J->q\n#Q->p\n#K->o\n#A->n\n\n#appending letters to aid sorting of rank\n#high card will append an 'm' in front\n#one pair will append a 'l' in front\n#three of a kind will append a 'k' in front\n#full house will append a 'j' in front\n#four of a kind will append an 'i' in front\n#five of a kind will append an 'h' in front\ntranslation_map2 = {\n    'J':'z',\n    '2':'y',\n    '3':'x',\n    '4':'w',\n    '5':'v',\n    '6':'u',\n    '7':'t',\n    '8':'s',\n    '9':'r',\n    'T':'q',\n    'Q':'p',\n    'K':'o',\n    'A':'n'}\n\ndef translation_converter2(s):\n    sl = [translation_map2[ch] for ch in list(s)]\n\n    #find the characters with the highest occurence\n    counted = Counter(sl)\n    mc_freq = counted.most_common(1)[0][1]\n    mc_char = counted.most_common(1)[0][0]\n\n    #if there are any 'J's replace these with the highest occuring character\n    #except in the case below in which either there are 5 J's or J is the charcter with the highest occurence.\n    #in the case where J has the highest occurence, replace it with the letter with the next highest occurence.\n    #in the case of 5 J's, do nothing\n    if (mc_char == 'z'):\n        if mc_freq != 5:\n            mc_char = counted.most_common(2)[1][0]\n\n    #recalculate the input for checking the hand\n    #whilst replacing the J's\n    counted = Counter([mc_char if ch == 'z' else ch for ch in sl])\n    mc_freq = counted.most_common(1)[0][1]\n\n    #carry on as if nothing happened\n    match mc_freq:\n        case 1: #high card\n            sl.insert(0, 'm')\n        case 2: #a pair\n            if counted.most_common(2)[1][1] == 2: #2 pairs\n                sl.insert(0, 'k')\n            else : #one pair\n                sl.insert(0, 'l')\n        case 3: \n            if counted.most_common(2)[1][1] == 2: #full house\n                sl.insert(0, 'i')\n            else : #3 of a kind\n                sl.insert(0, 'j')\n        case 4: #4 of a kind\n            sl.insert(0, 'h')\n        case 5: #5 of a kind\n            sl.insert(0, 'g')\n\n    return ''.join(sl)",
      "metadata": {
        "trusted": true
      },
      "outputs": [],
      "execution_count": 6
    },
    {
      "cell_type": "code",
      "source": "df = pd.read_csv('github-input.txt',sep=' ', converters={'hand':translation_converter2})",
      "metadata": {
        "trusted": true
      },
      "outputs": [],
      "execution_count": 7
    },
    {
      "cell_type": "code",
      "source": "df = df.sort_values(by='hand')\ndf['rank'] = range(len(df)-1,-1,-1)\ndf['rank'] = df['rank'] + 1\ndf['winnings'] = df['rank']*df['bid']",
      "metadata": {
        "trusted": true
      },
      "outputs": [],
      "execution_count": 8
    },
    {
      "cell_type": "code",
      "source": "df['winnings'].sum()",
      "metadata": {
        "trusted": true
      },
      "outputs": [
        {
          "execution_count": 9,
          "output_type": "execute_result",
          "data": {
            "text/plain": "249515436"
          },
          "metadata": {}
        }
      ],
      "execution_count": 9
    }
  ]
}