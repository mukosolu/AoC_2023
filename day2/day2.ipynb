{
  "metadata": {
    "language_info": {
      "codemirror_mode": {
        "name": "python",
        "version": 3
      },
      "file_extension": ".py",
      "mimetype": "text/x-python",
      "name": "python",
      "nbconvert_exporter": "python",
      "pygments_lexer": "ipython3",
      "version": "3.8"
    },
    "kernelspec": {
      "name": "python",
      "display_name": "Python (Pyodide)",
      "language": "python"
    }
  },
  "nbformat_minor": 4,
  "nbformat": 4,
  "cells": [
    {
      "cell_type": "markdown",
      "source": "Idea:\nLoad file in chunks i.e. one line at a time.\nparse line into colon, semicolon and comma. (function needs to repeat often...\n    load file in entirety and parse frame with this function.\n    output is dfgame.name, index is set order id, each set has rgb.{\n    e.g - 1:{1:R1G1B1, 2:R2G2B2, 3:erc}, 2:{}, 3. etc}\nextract totalR totalG totalB per set. any greater than maxR, maxG, or maxB\nadd all totalR toralG totalB per set - check if all togethr larger than maxR, maxG or maxB\nif all ok, put id number in accepted_col else put 0\nsum accepted_col",
      "metadata": {}
    },
    {
      "cell_type": "code",
      "source": "import pandas as pd",
      "metadata": {
        "trusted": true
      },
      "execution_count": 1,
      "outputs": []
    },
    {
      "cell_type": "code",
      "source": "#load the file\ndf_game_strings = pd.read_csv('github-input.txt', sep=\":\", header=None, names=['GameIDs','Sets'])",
      "metadata": {
        "trusted": true
      },
      "execution_count": 2,
      "outputs": []
    },
    {
      "cell_type": "code",
      "source": "\n# Create an empty list \nparsed_list =[]\n\n# Iterate over each game \nfor index, games in df_game_strings.iterrows(): \n    # Create list for the current row \n    split_game_into_sets_list = games['Sets'].split(';')\n    for a_set in range(len(split_game_into_sets_list)):\n        split_sets_into_rgb_list = split_game_into_sets_list[a_set].split(',')\n        nbRed = nbGreen = nbBlue = 0\n        for a_rgb in range(len(split_sets_into_rgb_list)):\n            split_rgb_into_number_colour = split_sets_into_rgb_list[a_rgb].strip().split(' ')\n            if split_rgb_into_number_colour[1] == 'red':\n                nbRed = split_rgb_into_number_colour[0]\n            if split_rgb_into_number_colour[1] == 'green':\n                nbGreen = split_rgb_into_number_colour[0]\n            if split_rgb_into_number_colour[1] == 'blue':\n                nbBlue = split_rgb_into_number_colour[0]\n        parsed_list.append([games.GameIDs.strip().split(' ')[1], a_set, int(nbRed), int(nbGreen), int(nbBlue)] )\n        \n# the holy grail \ndf = pd.DataFrame(parsed_list, columns=['Game ID', 'SetID', 'Red', 'Green', 'Blue'])\n",
      "metadata": {
        "trusted": true
      },
      "execution_count": 3,
      "outputs": []
    },
    {
      "cell_type": "code",
      "source": "grouping = df.groupby(by='Game ID')\nMaxRed = 12\nMaxGreen = 13\nMaxBlue = 14\nres_df = grouping.filter(lambda x: ((x.Red <= MaxRed).all() and (x.Green <= MaxGreen).all() and (x.Blue <= MaxBlue).all()))\n",
      "metadata": {
        "trusted": true
      },
      "execution_count": 4,
      "outputs": []
    },
    {
      "cell_type": "code",
      "source": "res_df['Game ID'].astype(int).unique().sum()",
      "metadata": {
        "trusted": true
      },
      "execution_count": 5,
      "outputs": [
        {
          "execution_count": 5,
          "output_type": "execute_result",
          "data": {
            "text/plain": "2268"
          },
          "metadata": {}
        }
      ]
    },
    {
      "cell_type": "markdown",
      "source": "Part 2",
      "metadata": {}
    },
    {
      "cell_type": "code",
      "source": "(grouping['Red'].max()*grouping['Green'].max()*grouping['Blue'].max()).sum()",
      "metadata": {
        "trusted": true
      },
      "execution_count": 6,
      "outputs": [
        {
          "execution_count": 6,
          "output_type": "execute_result",
          "data": {
            "text/plain": "63542"
          },
          "metadata": {}
        }
      ]
    }
  ]
}