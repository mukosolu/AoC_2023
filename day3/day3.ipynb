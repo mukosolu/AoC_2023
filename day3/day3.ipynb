{
  "metadata": {
    "kernelspec": {
      "name": "python",
      "display_name": "Python (Pyodide)",
      "language": "python"
    },
    "language_info": {
      "codemirror_mode": {
        "name": "python",
        "version": 3
      },
      "file_extension": ".py",
      "mimetype": "text/x-python",
      "name": "python",
      "nbconvert_exporter": "python",
      "pygments_lexer": "ipython3",
      "version": "3.8"
    }
  },
  "nbformat_minor": 4,
  "nbformat": 4,
  "cells": [
    {
      "cell_type": "markdown",
      "source": "Today's challenge didn't seem to lend itself too well to pandas. oh well.\nessentially, iterate over each line.\n\npart 1: find all the numbers, then check up, down, left, right of them for symbols\n\npart 2: find a star, then check up, down, left, right of them for numbers\n\nI'd love to but I don't have the will to refactor any of this",
      "metadata": {
        "editable": true,
        "slideshow": {
          "slide_type": ""
        }
      }
    },
    {
      "cell_type": "code",
      "source": "import pandas as pd",
      "metadata": {
        "trusted": true
      },
      "outputs": [],
      "execution_count": 1
    },
    {
      "cell_type": "code",
      "source": "df = pd.read_csv('elf-input.txt',header=None)",
      "metadata": {
        "trusted": true
      },
      "outputs": [],
      "execution_count": 2
    },
    {
      "cell_type": "code",
      "source": "symbols = '|\\\\'.join(df[0].str.extractall('([^.0-9a-z])')[0].drop_duplicates().to_list())\nsymbols = '\\\\' + symbols",
      "metadata": {
        "trusted": true
      },
      "outputs": [],
      "execution_count": 3
    },
    {
      "cell_type": "code",
      "source": "# Create an empty list \nres_list =[]\n\n# Iterate over each line \nfor index, line in df.iterrows(): \n    # find the numbers in the row\n    nb_list = line.str.extractall('(\\d+)')[0].to_list()\n    my_pos_in_str = 0\n\n    for nb in nb_list:\n        valid_nb = False\n        #find the index of the number\n        nb_pos_in_str = line.str.find(nb, start=my_pos_in_str)[0]\n        my_pos_in_str = nb_pos_in_str + len(nb)\n        slice_start = nb_pos_in_str-1\n        if slice_start < 0:\n            slice_start = 0\n        slice_end = my_pos_in_str+1\n        #check row above for symbols\n        if (index-1) in df.index:\n            valid_nb = valid_nb or df.loc[index-1].str.slice(start=slice_start, stop=slice_end).str.contains(symbols)[0]\n        #check row below for symbols\n        if (index+1) in df.index:\n            valid_nb = valid_nb or df.loc[index+1].str.slice(start=slice_start, stop=slice_end).str.contains(symbols)[0]\n        #check char to the left for symbols\n        if nb_pos_in_str > 0:\n            valid_nb = valid_nb or line.str[slice_start].str.contains(symbols)[0]\n        #check char to the right for symbols\n        if not line.str[my_pos_in_str].isna().any():\n            valid_nb = valid_nb or line.str[my_pos_in_str].str.contains(symbols)[0]\n        #if symbols are detected in any of the above\n            #keep number\n        if valid_nb:\n            res_list.append(nb)\n\nres_df = pd.DataFrame(res_list)",
      "metadata": {
        "trusted": true
      },
      "outputs": [],
      "execution_count": 4
    },
    {
      "cell_type": "code",
      "source": "res_df.astype(int).sum()",
      "metadata": {
        "trusted": true
      },
      "outputs": [
        {
          "execution_count": 5,
          "output_type": "execute_result",
          "data": {
            "text/plain": "0    539713\ndtype: int64"
          },
          "metadata": {}
        }
      ],
      "execution_count": 5
    },
    {
      "cell_type": "markdown",
      "source": "Part 2",
      "metadata": {}
    },
    {
      "cell_type": "code",
      "source": "# Create an empty list \nres_list =[]\nmax_nb_len = pd.DataFrame(nb_list).apply(lambda x: len(x[0]))[0].max()\n\n# Iterate over each line \nfor index, line in df.iterrows(): \n    # find the number of stars in the row\n    nb_stars_in_line = line.str.count('(\\*)')[0]\n    my_pos_in_str = 0\n    \n    for star in range(nb_stars_in_line):\n        tmp_list=[]\n        #find the index of the next star\n        nb_pos_in_str = line.str.find('*', start=my_pos_in_str)[0]\n        my_pos_in_str = nb_pos_in_str + 1\n        #check numbers above\n        if (index-1) in df.index:\n            my_pos_in_str_above = 0\n            for nb in df.loc[index-1].str.extractall('(\\d+)')[0].dropna().to_list():\n                nb_pos_in_str_above = df.loc[index-1].str.find(nb, start=my_pos_in_str_above)[0]\n                my_pos_in_str_above = nb_pos_in_str_above + len(nb)\n                if nb_pos_in_str in range(nb_pos_in_str_above-1, my_pos_in_str_above+1):\n                    tmp_list.append(nb)\n        #check numbers below\n        if (index+1) in df.index:\n            my_pos_in_str_below = 0\n            for nb in df.loc[index+1].str.extractall('(\\d+)')[0].dropna().to_list():\n                nb_pos_in_str_below = df.loc[index+1].str.find(nb, start=my_pos_in_str_below)[0]\n                my_pos_in_str_below = nb_pos_in_str_below + len(nb)\n                if nb_pos_in_str in range(nb_pos_in_str_below-1, my_pos_in_str_below+1):\n                    tmp_list.append(nb)\n        #look to the left for a number\n        slice_start = nb_pos_in_str - max_nb_len -1\n        if nb_pos_in_str < 0:\n            slice_start = 0\n        tmp_res_list = line.str.slice(start=slice_start, stop=nb_pos_in_str).str.extractall('(\\d+)')[0].dropna().to_list()\n        if len(tmp_res_list) > 0:\n            nb = tmp_res_list[len(tmp_res_list)-1]\n            nb_pos_in_left_str = line.str.find(nb, start=slice_start)[0]\n            if ((nb_pos_in_left_str > -1) and (nb_pos_in_left_str+len(nb) == nb_pos_in_str)):\n                tmp_list.append(nb)\n        #look to the right for a number\n        slice_start = nb_pos_in_str \n        slice_end = slice_start + max_nb_len+2\n        if slice_end > line.str.len()[0]:\n            slice_end = line.str.len()[0]\n        tmp_res_list = line.str.slice(start=slice_start, stop=slice_end).str.extractall('(\\d+)')[0].dropna().to_list()\n        if len(tmp_res_list) > 0 :\n            nb = tmp_res_list[0]\n            nb_pos_in_right_str = line.str.find(nb, start=nb_pos_in_str)[0]\n            if ((nb_pos_in_right_str > -1) and (nb_pos_in_right_str == nb_pos_in_str+1)):\n                tmp_list.append(nb)\n        #if only 2 numbers\n            #multiply\n        if len(tmp_list) == 2:\n            res_list.append(int(tmp_list[0])*int(tmp_list[1]))\n#sum gear ratios\n",
      "metadata": {
        "trusted": true
      },
      "outputs": [],
      "execution_count": 11
    },
    {
      "cell_type": "code",
      "source": "",
      "metadata": {
        "trusted": true
      },
      "outputs": [],
      "execution_count": null
    },
    {
      "cell_type": "code",
      "source": "res_df = pd.DataFrame(res_list)\nres_df.sum()",
      "metadata": {
        "trusted": true
      },
      "outputs": [
        {
          "execution_count": 12,
          "output_type": "execute_result",
          "data": {
            "text/plain": "0    84159075\ndtype: int64"
          },
          "metadata": {}
        }
      ],
      "execution_count": 12
    }
  ]
}