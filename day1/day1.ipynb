{
  "metadata": {
    "language_info": {
      "codemirror_mode": {
        "name": "python",
        "version": 3
      },
      "file_extension": ".py",
      "mimetype": "text/x-python",
      "name": "python",
      "nbconvert_exporter": "python",
      "pygments_lexer": "ipython3",
      "version": "3.8"
    },
    "kernelspec": {
      "name": "python",
      "display_name": "Python (Pyodide)",
      "language": "python"
    }
  },
  "nbformat_minor": 4,
  "nbformat": 4,
  "cells": [
    {
      "cell_type": "markdown",
      "source": "## Advent of Code 2023\n\n### Day 1 - Part 1",
      "metadata": {}
    },
    {
      "cell_type": "code",
      "source": "import pandas as pd",
      "metadata": {
        "trusted": true
      },
      "execution_count": 1,
      "outputs": []
    },
    {
      "cell_type": "code",
      "source": "#input loaded as file\ndf = pd.read_csv(\"github-input.txt\", header=None, names=['input'])\n\n#extracting first digit\ndf['coord part1'] = df['input'].str.extract('(\\d){1}')\n\n#extracting last digit\n#I could not extract both first and last digits simultaneously. the RE kept gobbling the first digit up.\ndf['coord part2'] = df['input'].str.extract('(\\d)(?!.*\\d)')\n\n#test data creates empty rows which can't be summed. drop them here.\n#this also means the data set cannot be used for part 2! remember to recreate the input data for part2.\ndf.dropna() \n\n#concatenate the coordinates, recognise them as integers and sum them up\ndf['coord']=(df['coord part1']+df['coord part2']).astype(int)\ndf.coord.sum()",
      "metadata": {
        "trusted": true
      },
      "execution_count": 2,
      "outputs": [
        {
          "execution_count": 2,
          "output_type": "execute_result",
          "data": {
            "text/plain": "55130"
          },
          "metadata": {}
        }
      ]
    },
    {
      "cell_type": "markdown",
      "source": "## Advent of Code 2023\n\n### Day 1 - Part 2",
      "metadata": {}
    },
    {
      "cell_type": "code",
      "source": "#reload input file as part1 may have dropped relevant data\ndf = pd.read_csv(\"github-input.txt\", header=None, names=['replaced input'])\n\n#associate words to numbers\n#pad the numbers to avoid gobbling up letters required to form other numbers\nword_to_int = {'zero':'z0o', 'one':'o1e', 'two':'t2o', 'three':'t3e', 'four':'f4r', 'five':'f5e', 'six':'s6x', 'seven':'s7n', 'eight':'e8t', 'nine':'n9e'}",
      "metadata": {
        "trusted": true
      },
      "execution_count": 3,
      "outputs": []
    },
    {
      "cell_type": "code",
      "source": "#replace the words with the padded numbers\ndf['replaced input'] = df['replaced input'].replace(word_to_int, regex=True)",
      "metadata": {
        "trusted": true
      },
      "execution_count": 4,
      "outputs": []
    },
    {
      "cell_type": "code",
      "source": "#extracting first digit\ndf['replaced coord part1'] = df['replaced input'].str.extract('(\\d){1}')\n#extracting last digit\ndf['replaced coord part2'] = df['replaced input'].str.extract('(\\d)(?!.*\\d)')\n#just in case, get rid of 'NaN'\ndf.dropna()\n#concatenate the coordinates, recognise them as integers and sum them up\ndf['replaced coord']=(df['replaced coord part1']+df['replaced coord part2']).astype(int)\n#sum it up\ndf['replaced coord'].sum()",
      "metadata": {
        "trusted": true
      },
      "execution_count": 5,
      "outputs": [
        {
          "execution_count": 5,
          "output_type": "execute_result",
          "data": {
            "text/plain": "54985"
          },
          "metadata": {}
        }
      ]
    }
  ]
}