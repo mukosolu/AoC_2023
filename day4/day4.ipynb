{
  "metadata": {
    "kernelspec": {
      "name": "python",
      "display_name": "Python (Pyodide)",
      "language": "python"
    },
    "language_info": {
      "codemirror_mode": {
        "name": "python",
        "version": 3
      },
      "file_extension": ".py",
      "mimetype": "text/x-python",
      "name": "python",
      "nbconvert_exporter": "python",
      "pygments_lexer": "ipython3",
      "version": "3.8"
    }
  },
  "nbformat_minor": 4,
  "nbformat": 4,
  "cells": [
    {
      "cell_type": "markdown",
      "source": "part1: revolve idea around masks and the power function",
      "metadata": {}
    },
    {
      "cell_type": "code",
      "source": "import pandas as pd",
      "metadata": {
        "trusted": true
      },
      "outputs": [],
      "execution_count": 1
    },
    {
      "cell_type": "code",
      "source": "df = pd.read_csv('elf-input.txt', sep='|', header=None)",
      "metadata": {
        "trusted": true
      },
      "outputs": [],
      "execution_count": 2
    },
    {
      "cell_type": "code",
      "source": "df = df.rename(columns={0: \"winning\", 1: \"acquired\"})",
      "metadata": {
        "trusted": true
      },
      "outputs": [],
      "execution_count": 3
    },
    {
      "cell_type": "code",
      "source": "df[['card id', 'winning']] = df.winning.str.split(':', expand = True)",
      "metadata": {
        "trusted": true
      },
      "outputs": [],
      "execution_count": 4
    },
    {
      "cell_type": "code",
      "source": "df.winning = df.winning.str.strip().str.split(' +')",
      "metadata": {
        "trusted": true
      },
      "outputs": [],
      "execution_count": 5
    },
    {
      "cell_type": "code",
      "source": "df.acquired = df.acquired.str.strip().str.split(' +')",
      "metadata": {
        "trusted": true
      },
      "outputs": [],
      "execution_count": 6
    },
    {
      "cell_type": "code",
      "source": "tmp_res = df.apply( lambda x: pd.DataFrame(x.acquired).isin(x.winning).values.sum()-1, axis = 1)",
      "metadata": {
        "trusted": true
      },
      "outputs": [],
      "execution_count": 7
    },
    {
      "cell_type": "code",
      "source": "tmp_res.drop(tmp_res[tmp_res.lt(0)].index, inplace=True)",
      "metadata": {
        "trusted": true
      },
      "outputs": [],
      "execution_count": 8
    },
    {
      "cell_type": "code",
      "source": "tmp_res = tmp_res.apply(lambda x: 2 ** x)",
      "metadata": {
        "trusted": true
      },
      "outputs": [],
      "execution_count": 9
    },
    {
      "cell_type": "code",
      "source": "tmp_res.sum()",
      "metadata": {
        "trusted": true
      },
      "outputs": [
        {
          "execution_count": 10,
          "output_type": "execute_result",
          "data": {
            "text/plain": "22488"
          },
          "metadata": {}
        }
      ],
      "execution_count": 10
    },
    {
      "cell_type": "markdown",
      "source": "part 2: ok... i rhought it wouldn't be so bad to just let it loop on itself simply... boy was i wrong. this takes a good 10minutes. but again, I don't have the will to optimise. have fun.",
      "metadata": {}
    },
    {
      "cell_type": "code",
      "source": "df['matches'] = df.apply( lambda x: pd.DataFrame(x.acquired).isin(x.winning).values.sum(), axis = 1)",
      "metadata": {
        "trusted": true
      },
      "outputs": [],
      "execution_count": 11
    },
    {
      "cell_type": "code",
      "source": "df['instances'] = 1",
      "metadata": {
        "trusted": true
      },
      "outputs": [],
      "execution_count": 12
    },
    {
      "cell_type": "code",
      "source": "for index, matchResults in df.iterrows():\n    nb_of_cards_to_update = df['matches'][index]\n    nb_of_instances = df['instances'][index]\n    card_id = index+1\n    for i in range(nb_of_instances):\n        for card_idx in range(card_id,card_id+nb_of_cards_to_update):\n            new_card_instances_value = df['instances'][card_idx] + 1\n            df.at[card_idx, 'instances'] = new_card_instances_value",
      "metadata": {
        "trusted": true
      },
      "outputs": [],
      "execution_count": 13
    },
    {
      "cell_type": "code",
      "source": "df.instances.sum()",
      "metadata": {
        "trusted": true
      },
      "outputs": [
        {
          "execution_count": 14,
          "output_type": "execute_result",
          "data": {
            "text/plain": "7013204"
          },
          "metadata": {}
        }
      ],
      "execution_count": 14
    }
  ]
}